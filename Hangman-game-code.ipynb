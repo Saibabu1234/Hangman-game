import tkinter
from tkinter import *
from tkinter import messagebox
from PIL import ImageTk,Image
import mysql.connector

cnx = mysql.connector.connect(username = "root",passwd = "1431",host = "localhost",database = "test")
cursor = cnx.cursor()

class register:
    def _init_(self,top):
        self.top = top
        self.top.title("Login System")
        self.top.geometry("1360x800+0+0")

        self.back = Image.open("image/background2.jpg")
        self.ground = self.back.resize((1360,800),Image.ANTIALIAS)
        self.background = ImageTk.PhotoImage(self.ground)
        ll = Label(self.top, image=self.background)
        ll.pack()

        self.user = PhotoImage(file = "image/user.png")
        self.passwd = PhotoImage(file="image/password.png")

        label = Label(self.top, text="LOGIN SYSTEM", font=("times new roman", 40, "bold"), bg="yellow", fg="red", bd=10,relief=GROOVE).place(x=0, y=0, relwidth=1)

        frame = Frame(self.top, bg="gray")
        frame.place(x=520,y = 300)

        logo = Label(frame,text = " User name",image = self.user,compound = LEFT,font = ("times new roman",15,"bold"),fg = "black").grid(row = 0,column = 0,pady = 5,padx = 5)
        self.e1 = Entry(frame,width = 30,bd = 5,relief = GROOVE)
        self.e1.grid(row = 0,column = 1)

        password = Label(frame,text = "  Password",image=self.passwd,compound = LEFT,font = ("times new roman",15,"bold")).grid(row=1, column=0, pady=5,padx = 5)
        self.e2 = Entry(frame, width=30,bd = 5,relief = GROOVE)
        self.e2.grid(row=1, column=1)

        def enter():
            d1 = self.e1.get()
            d2 = self.e2.get()
            if self.e1.get() == "" or self.e2.get() == "":
                messagebox.showinfo(message="enter values")
    
            else:
                sql = "insert into login values (%s,%s)"
                val = (d1, d2)
                cursor.execute(sql, val)
                cnx.commit()
                cnx.close()
                self.e1.delete(0, "end")
                self.e2.delete(0, "end")
                messagebox.showinfo(message="Done")
                self.top.destroy()

        b1 = Button(frame,text = "Login",width = 8,bg = "gray",height = 2,command = enter,bd = 5,relief = GROOVE).grid(row = 2,column = 1)

top = Tk()
ob1 = register(top)
top.mainloop()
